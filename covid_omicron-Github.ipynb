{
 "cells": [
  {
   "cell_type": "code",
   "execution_count": 1,
   "id": "35b4898c",
   "metadata": {},
   "outputs": [
    {
     "ename": "KeyboardInterrupt",
     "evalue": "",
     "output_type": "error",
     "traceback": [
      "\u001b[1;31m---------------------------------------------------------------------------\u001b[0m",
      "\u001b[1;31mKeyboardInterrupt\u001b[0m                         Traceback (most recent call last)",
      "\u001b[1;32m~\\AppData\\Local\\Temp/ipykernel_35404/4012390861.py\u001b[0m in \u001b[0;36m<module>\u001b[1;34m\u001b[0m\n\u001b[0;32m      7\u001b[0m \u001b[1;32mimport\u001b[0m \u001b[0mholoviews\u001b[0m \u001b[1;32mas\u001b[0m \u001b[0mhv\u001b[0m\u001b[1;33m\u001b[0m\u001b[1;33m\u001b[0m\u001b[0m\n\u001b[0;32m      8\u001b[0m \u001b[1;32mimport\u001b[0m \u001b[0mfolium\u001b[0m\u001b[1;33m\u001b[0m\u001b[1;33m\u001b[0m\u001b[0m\n\u001b[1;32m----> 9\u001b[1;33m \u001b[1;32mimport\u001b[0m \u001b[0mseaborn\u001b[0m \u001b[1;32mas\u001b[0m \u001b[0msns\u001b[0m\u001b[1;33m\u001b[0m\u001b[1;33m\u001b[0m\u001b[0m\n\u001b[0m\u001b[0;32m     10\u001b[0m \u001b[1;32mimport\u001b[0m \u001b[0mmatplotlib\u001b[0m\u001b[1;33m.\u001b[0m\u001b[0mpyplot\u001b[0m \u001b[1;32mas\u001b[0m \u001b[0mplt\u001b[0m\u001b[1;33m\u001b[0m\u001b[1;33m\u001b[0m\u001b[0m\n\u001b[0;32m     11\u001b[0m \u001b[1;32mimport\u001b[0m \u001b[0mplotly\u001b[0m\u001b[1;33m.\u001b[0m\u001b[0mexpress\u001b[0m \u001b[1;32mas\u001b[0m \u001b[0mpx\u001b[0m\u001b[1;33m\u001b[0m\u001b[1;33m\u001b[0m\u001b[0m\n",
      "\u001b[1;32mC:\\Anaconda3\\envs\\Machine_Learning\\lib\\site-packages\\seaborn\\__init__.py\u001b[0m in \u001b[0;36m<module>\u001b[1;34m\u001b[0m\n\u001b[0;32m      1\u001b[0m \u001b[1;31m# Import seaborn objects\u001b[0m\u001b[1;33m\u001b[0m\u001b[1;33m\u001b[0m\u001b[1;33m\u001b[0m\u001b[0m\n\u001b[1;32m----> 2\u001b[1;33m \u001b[1;32mfrom\u001b[0m \u001b[1;33m.\u001b[0m\u001b[0mrcmod\u001b[0m \u001b[1;32mimport\u001b[0m \u001b[1;33m*\u001b[0m  \u001b[1;31m# noqa: F401,F403\u001b[0m\u001b[1;33m\u001b[0m\u001b[1;33m\u001b[0m\u001b[0m\n\u001b[0m\u001b[0;32m      3\u001b[0m \u001b[1;32mfrom\u001b[0m \u001b[1;33m.\u001b[0m\u001b[0mutils\u001b[0m \u001b[1;32mimport\u001b[0m \u001b[1;33m*\u001b[0m  \u001b[1;31m# noqa: F401,F403\u001b[0m\u001b[1;33m\u001b[0m\u001b[1;33m\u001b[0m\u001b[0m\n\u001b[0;32m      4\u001b[0m \u001b[1;32mfrom\u001b[0m \u001b[1;33m.\u001b[0m\u001b[0mpalettes\u001b[0m \u001b[1;32mimport\u001b[0m \u001b[1;33m*\u001b[0m  \u001b[1;31m# noqa: F401,F403\u001b[0m\u001b[1;33m\u001b[0m\u001b[1;33m\u001b[0m\u001b[0m\n\u001b[0;32m      5\u001b[0m \u001b[1;32mfrom\u001b[0m \u001b[1;33m.\u001b[0m\u001b[0mrelational\u001b[0m \u001b[1;32mimport\u001b[0m \u001b[1;33m*\u001b[0m  \u001b[1;31m# noqa: F401,F403\u001b[0m\u001b[1;33m\u001b[0m\u001b[1;33m\u001b[0m\u001b[0m\n",
      "\u001b[1;32mC:\\Anaconda3\\envs\\Machine_Learning\\lib\\site-packages\\seaborn\\rcmod.py\u001b[0m in \u001b[0;36m<module>\u001b[1;34m\u001b[0m\n\u001b[0;32m      5\u001b[0m \u001b[1;32mimport\u001b[0m \u001b[0mmatplotlib\u001b[0m \u001b[1;32mas\u001b[0m \u001b[0mmpl\u001b[0m\u001b[1;33m\u001b[0m\u001b[1;33m\u001b[0m\u001b[0m\n\u001b[0;32m      6\u001b[0m \u001b[1;32mfrom\u001b[0m \u001b[0mcycler\u001b[0m \u001b[1;32mimport\u001b[0m \u001b[0mcycler\u001b[0m\u001b[1;33m\u001b[0m\u001b[1;33m\u001b[0m\u001b[0m\n\u001b[1;32m----> 7\u001b[1;33m \u001b[1;32mfrom\u001b[0m \u001b[1;33m.\u001b[0m \u001b[1;32mimport\u001b[0m \u001b[0mpalettes\u001b[0m\u001b[1;33m\u001b[0m\u001b[1;33m\u001b[0m\u001b[0m\n\u001b[0m\u001b[0;32m      8\u001b[0m \u001b[1;33m\u001b[0m\u001b[0m\n\u001b[0;32m      9\u001b[0m \u001b[1;33m\u001b[0m\u001b[0m\n",
      "\u001b[1;32mC:\\Anaconda3\\envs\\Machine_Learning\\lib\\site-packages\\seaborn\\palettes.py\u001b[0m in \u001b[0;36m<module>\u001b[1;34m\u001b[0m\n\u001b[0;32m      7\u001b[0m \u001b[1;32mfrom\u001b[0m \u001b[1;33m.\u001b[0m\u001b[0mexternal\u001b[0m \u001b[1;32mimport\u001b[0m \u001b[0mhusl\u001b[0m\u001b[1;33m\u001b[0m\u001b[1;33m\u001b[0m\u001b[0m\n\u001b[0;32m      8\u001b[0m \u001b[1;33m\u001b[0m\u001b[0m\n\u001b[1;32m----> 9\u001b[1;33m \u001b[1;32mfrom\u001b[0m \u001b[1;33m.\u001b[0m\u001b[0mutils\u001b[0m \u001b[1;32mimport\u001b[0m \u001b[0mdesaturate\u001b[0m\u001b[1;33m,\u001b[0m \u001b[0mget_color_cycle\u001b[0m\u001b[1;33m\u001b[0m\u001b[1;33m\u001b[0m\u001b[0m\n\u001b[0m\u001b[0;32m     10\u001b[0m \u001b[1;32mfrom\u001b[0m \u001b[1;33m.\u001b[0m\u001b[0mcolors\u001b[0m \u001b[1;32mimport\u001b[0m \u001b[0mxkcd_rgb\u001b[0m\u001b[1;33m,\u001b[0m \u001b[0mcrayons\u001b[0m\u001b[1;33m\u001b[0m\u001b[1;33m\u001b[0m\u001b[0m\n\u001b[0;32m     11\u001b[0m \u001b[1;33m\u001b[0m\u001b[0m\n",
      "\u001b[1;32mC:\\Anaconda3\\envs\\Machine_Learning\\lib\\site-packages\\seaborn\\utils.py\u001b[0m in \u001b[0;36m<module>\u001b[1;34m\u001b[0m\n\u001b[0;32m      8\u001b[0m \u001b[1;33m\u001b[0m\u001b[0m\n\u001b[0;32m      9\u001b[0m \u001b[1;32mimport\u001b[0m \u001b[0mnumpy\u001b[0m \u001b[1;32mas\u001b[0m \u001b[0mnp\u001b[0m\u001b[1;33m\u001b[0m\u001b[1;33m\u001b[0m\u001b[0m\n\u001b[1;32m---> 10\u001b[1;33m \u001b[1;32mfrom\u001b[0m \u001b[0mscipy\u001b[0m \u001b[1;32mimport\u001b[0m \u001b[0mstats\u001b[0m\u001b[1;33m\u001b[0m\u001b[1;33m\u001b[0m\u001b[0m\n\u001b[0m\u001b[0;32m     11\u001b[0m \u001b[1;32mimport\u001b[0m \u001b[0mpandas\u001b[0m \u001b[1;32mas\u001b[0m \u001b[0mpd\u001b[0m\u001b[1;33m\u001b[0m\u001b[1;33m\u001b[0m\u001b[0m\n\u001b[0;32m     12\u001b[0m \u001b[1;32mimport\u001b[0m \u001b[0mmatplotlib\u001b[0m \u001b[1;32mas\u001b[0m \u001b[0mmpl\u001b[0m\u001b[1;33m\u001b[0m\u001b[1;33m\u001b[0m\u001b[0m\n",
      "\u001b[1;32mC:\\Anaconda3\\envs\\Machine_Learning\\lib\\site-packages\\scipy\\stats\\__init__.py\u001b[0m in \u001b[0;36m<module>\u001b[1;34m\u001b[0m\n\u001b[0;32m    439\u001b[0m \"\"\"\n\u001b[0;32m    440\u001b[0m \u001b[1;33m\u001b[0m\u001b[0m\n\u001b[1;32m--> 441\u001b[1;33m \u001b[1;32mfrom\u001b[0m \u001b[1;33m.\u001b[0m\u001b[0mstats\u001b[0m \u001b[1;32mimport\u001b[0m \u001b[1;33m*\u001b[0m\u001b[1;33m\u001b[0m\u001b[1;33m\u001b[0m\u001b[0m\n\u001b[0m\u001b[0;32m    442\u001b[0m \u001b[1;32mfrom\u001b[0m \u001b[1;33m.\u001b[0m\u001b[0mdistributions\u001b[0m \u001b[1;32mimport\u001b[0m \u001b[1;33m*\u001b[0m\u001b[1;33m\u001b[0m\u001b[1;33m\u001b[0m\u001b[0m\n\u001b[0;32m    443\u001b[0m \u001b[1;32mfrom\u001b[0m \u001b[1;33m.\u001b[0m\u001b[0mmorestats\u001b[0m \u001b[1;32mimport\u001b[0m \u001b[1;33m*\u001b[0m\u001b[1;33m\u001b[0m\u001b[1;33m\u001b[0m\u001b[0m\n",
      "\u001b[1;32mC:\\Anaconda3\\envs\\Machine_Learning\\lib\\site-packages\\scipy\\stats\\stats.py\u001b[0m in \u001b[0;36m<module>\u001b[1;34m\u001b[0m\n\u001b[0;32m     41\u001b[0m \u001b[1;32mimport\u001b[0m \u001b[0mscipy\u001b[0m\u001b[1;33m.\u001b[0m\u001b[0mspecial\u001b[0m \u001b[1;32mas\u001b[0m \u001b[0mspecial\u001b[0m\u001b[1;33m\u001b[0m\u001b[1;33m\u001b[0m\u001b[0m\n\u001b[0;32m     42\u001b[0m \u001b[1;32mfrom\u001b[0m \u001b[0mscipy\u001b[0m \u001b[1;32mimport\u001b[0m \u001b[0mlinalg\u001b[0m\u001b[1;33m\u001b[0m\u001b[1;33m\u001b[0m\u001b[0m\n\u001b[1;32m---> 43\u001b[1;33m \u001b[1;32mfrom\u001b[0m \u001b[1;33m.\u001b[0m \u001b[1;32mimport\u001b[0m \u001b[0mdistributions\u001b[0m\u001b[1;33m\u001b[0m\u001b[1;33m\u001b[0m\u001b[0m\n\u001b[0m\u001b[0;32m     44\u001b[0m \u001b[1;32mfrom\u001b[0m \u001b[1;33m.\u001b[0m \u001b[1;32mimport\u001b[0m \u001b[0mmstats_basic\u001b[0m\u001b[1;33m\u001b[0m\u001b[1;33m\u001b[0m\u001b[0m\n\u001b[0;32m     45\u001b[0m from ._stats_mstats_common import (_find_repeats, linregress, theilslopes,\n",
      "\u001b[1;32mC:\\Anaconda3\\envs\\Machine_Learning\\lib\\site-packages\\scipy\\stats\\distributions.py\u001b[0m in \u001b[0;36m<module>\u001b[1;34m\u001b[0m\n\u001b[0;32m      8\u001b[0m \u001b[1;32mfrom\u001b[0m \u001b[1;33m.\u001b[0m\u001b[0m_distn_infrastructure\u001b[0m \u001b[1;32mimport\u001b[0m \u001b[1;33m(\u001b[0m\u001b[0mrv_discrete\u001b[0m\u001b[1;33m,\u001b[0m \u001b[0mrv_continuous\u001b[0m\u001b[1;33m,\u001b[0m \u001b[0mrv_frozen\u001b[0m\u001b[1;33m)\u001b[0m\u001b[1;33m\u001b[0m\u001b[1;33m\u001b[0m\u001b[0m\n\u001b[0;32m      9\u001b[0m \u001b[1;33m\u001b[0m\u001b[0m\n\u001b[1;32m---> 10\u001b[1;33m \u001b[1;32mfrom\u001b[0m \u001b[1;33m.\u001b[0m \u001b[1;32mimport\u001b[0m \u001b[0m_continuous_distns\u001b[0m\u001b[1;33m\u001b[0m\u001b[1;33m\u001b[0m\u001b[0m\n\u001b[0m\u001b[0;32m     11\u001b[0m \u001b[1;32mfrom\u001b[0m \u001b[1;33m.\u001b[0m \u001b[1;32mimport\u001b[0m \u001b[0m_discrete_distns\u001b[0m\u001b[1;33m\u001b[0m\u001b[1;33m\u001b[0m\u001b[0m\n\u001b[0;32m     12\u001b[0m \u001b[1;33m\u001b[0m\u001b[0m\n",
      "\u001b[1;32mC:\\Anaconda3\\envs\\Machine_Learning\\lib\\site-packages\\scipy\\stats\\_continuous_distns.py\u001b[0m in \u001b[0;36m<module>\u001b[1;34m\u001b[0m\n\u001b[0;32m   7172\u001b[0m \u001b[1;33m\u001b[0m\u001b[0m\n\u001b[0;32m   7173\u001b[0m \u001b[0mloguniform\u001b[0m \u001b[1;33m=\u001b[0m \u001b[0mreciprocal_gen\u001b[0m\u001b[1;33m(\u001b[0m\u001b[0mname\u001b[0m\u001b[1;33m=\u001b[0m\u001b[1;34m\"loguniform\"\u001b[0m\u001b[1;33m)\u001b[0m\u001b[1;33m\u001b[0m\u001b[1;33m\u001b[0m\u001b[0m\n\u001b[1;32m-> 7174\u001b[1;33m \u001b[0mreciprocal\u001b[0m \u001b[1;33m=\u001b[0m \u001b[0mreciprocal_gen\u001b[0m\u001b[1;33m(\u001b[0m\u001b[0mname\u001b[0m\u001b[1;33m=\u001b[0m\u001b[1;34m\"reciprocal\"\u001b[0m\u001b[1;33m)\u001b[0m\u001b[1;33m\u001b[0m\u001b[1;33m\u001b[0m\u001b[0m\n\u001b[0m\u001b[0;32m   7175\u001b[0m \u001b[1;33m\u001b[0m\u001b[0m\n\u001b[0;32m   7176\u001b[0m \u001b[1;33m\u001b[0m\u001b[0m\n",
      "\u001b[1;32mC:\\Anaconda3\\envs\\Machine_Learning\\lib\\site-packages\\scipy\\stats\\_distn_infrastructure.py\u001b[0m in \u001b[0;36m__init__\u001b[1;34m(self, momtype, a, b, xtol, badvalue, name, longname, shapes, extradoc, seed)\u001b[0m\n\u001b[0;32m   1719\u001b[0m                                   \u001b[0mlocscale_in\u001b[0m\u001b[1;33m=\u001b[0m\u001b[1;34m'loc=0, scale=1'\u001b[0m\u001b[1;33m,\u001b[0m\u001b[1;33m\u001b[0m\u001b[1;33m\u001b[0m\u001b[0m\n\u001b[0;32m   1720\u001b[0m                                   locscale_out='loc, scale')\n\u001b[1;32m-> 1721\u001b[1;33m         \u001b[0mself\u001b[0m\u001b[1;33m.\u001b[0m\u001b[0m_attach_methods\u001b[0m\u001b[1;33m(\u001b[0m\u001b[1;33m)\u001b[0m\u001b[1;33m\u001b[0m\u001b[1;33m\u001b[0m\u001b[0m\n\u001b[0m\u001b[0;32m   1722\u001b[0m \u001b[1;33m\u001b[0m\u001b[0m\n\u001b[0;32m   1723\u001b[0m         \u001b[1;32mif\u001b[0m \u001b[0mlongname\u001b[0m \u001b[1;32mis\u001b[0m \u001b[1;32mNone\u001b[0m\u001b[1;33m:\u001b[0m\u001b[1;33m\u001b[0m\u001b[1;33m\u001b[0m\u001b[0m\n",
      "\u001b[1;32mC:\\Anaconda3\\envs\\Machine_Learning\\lib\\site-packages\\scipy\\stats\\_distn_infrastructure.py\u001b[0m in \u001b[0;36m_attach_methods\u001b[1;34m(self)\u001b[0m\n\u001b[0;32m   1754\u001b[0m         \"\"\"\n\u001b[0;32m   1755\u001b[0m         \u001b[1;31m# _attach_methods is responsible for calling _attach_argparser_methods\u001b[0m\u001b[1;33m\u001b[0m\u001b[1;33m\u001b[0m\u001b[1;33m\u001b[0m\u001b[0m\n\u001b[1;32m-> 1756\u001b[1;33m         \u001b[0mself\u001b[0m\u001b[1;33m.\u001b[0m\u001b[0m_attach_argparser_methods\u001b[0m\u001b[1;33m(\u001b[0m\u001b[1;33m)\u001b[0m\u001b[1;33m\u001b[0m\u001b[1;33m\u001b[0m\u001b[0m\n\u001b[0m\u001b[0;32m   1757\u001b[0m \u001b[1;33m\u001b[0m\u001b[0m\n\u001b[0;32m   1758\u001b[0m         \u001b[1;31m# nin correction\u001b[0m\u001b[1;33m\u001b[0m\u001b[1;33m\u001b[0m\u001b[1;33m\u001b[0m\u001b[0m\n",
      "\u001b[1;32mC:\\Anaconda3\\envs\\Machine_Learning\\lib\\site-packages\\scipy\\stats\\_distn_infrastructure.py\u001b[0m in \u001b[0;36m_attach_argparser_methods\u001b[1;34m(self)\u001b[0m\n\u001b[0;32m    706\u001b[0m         \"\"\"\n\u001b[0;32m    707\u001b[0m         \u001b[0mns\u001b[0m \u001b[1;33m=\u001b[0m \u001b[1;33m{\u001b[0m\u001b[1;33m}\u001b[0m\u001b[1;33m\u001b[0m\u001b[1;33m\u001b[0m\u001b[0m\n\u001b[1;32m--> 708\u001b[1;33m         \u001b[0mexec\u001b[0m\u001b[1;33m(\u001b[0m\u001b[0mself\u001b[0m\u001b[1;33m.\u001b[0m\u001b[0m_parse_arg_template\u001b[0m\u001b[1;33m,\u001b[0m \u001b[0mns\u001b[0m\u001b[1;33m)\u001b[0m\u001b[1;33m\u001b[0m\u001b[1;33m\u001b[0m\u001b[0m\n\u001b[0m\u001b[0;32m    709\u001b[0m         \u001b[1;31m# NB: attach to the instance, not class\u001b[0m\u001b[1;33m\u001b[0m\u001b[1;33m\u001b[0m\u001b[1;33m\u001b[0m\u001b[0m\n\u001b[0;32m    710\u001b[0m         \u001b[1;32mfor\u001b[0m \u001b[0mname\u001b[0m \u001b[1;32min\u001b[0m \u001b[1;33m[\u001b[0m\u001b[1;34m'_parse_args'\u001b[0m\u001b[1;33m,\u001b[0m \u001b[1;34m'_parse_args_stats'\u001b[0m\u001b[1;33m,\u001b[0m \u001b[1;34m'_parse_args_rvs'\u001b[0m\u001b[1;33m]\u001b[0m\u001b[1;33m:\u001b[0m\u001b[1;33m\u001b[0m\u001b[1;33m\u001b[0m\u001b[0m\n",
      "\u001b[1;32m<string>\u001b[0m in \u001b[0;36m<module>\u001b[1;34m\u001b[0m\n",
      "\u001b[1;31mKeyboardInterrupt\u001b[0m: "
     ]
    }
   ],
   "source": [
    "import time\n",
    "import itertools\n",
    "import json\n",
    "import panel as pn\n",
    "import numpy as np\n",
    "import pandas as pd\n",
    "import holoviews as hv\n",
    "import folium\n",
    "import seaborn as sns\n",
    "import matplotlib.pyplot as plt\n",
    "import plotly.express as px\n",
    "\n",
    "from IPython.display import HTML , IFrame, YouTubeVideo, clear_output\n",
    "\n",
    "from panel.widgets import Tqdm\n",
    "\n",
    "from folium.plugins import HeatMap, HeatMapWithTime, MarkerCluster\n",
    "\n",
    "from bokeh import models, plotting, io\n",
    "from bokeh.layouts import column\n",
    "from bokeh.sampledata import stocks\n",
    "from bokeh.plotting import figure, show\n",
    "from bokeh.models import ColumnDataSource, RangeTool, BoxAnnotation\n",
    "\n",
    "from holoviews import opts\n",
    "from holoviews.streams import Pipe, Buffer\n",
    "from holoviews.operation.timeseries import rolling, rolling_outlier_std\n",
    "\n",
    "from scipy.linalg import LinAlgError\n",
    "\n",
    "import statsmodels.api as sm\n",
    "from statsmodels.tsa.stattools import adfuller, acf, pacf\n",
    "from statsmodels.graphics.tsaplots import plot_acf, plot_pacf\n",
    "from statsmodels.graphics.gofplots import qqplot\n",
    "from statsmodels.tsa.statespace.sarimax import SARIMAX\n",
    "\n",
    "from sklearn.preprocessing import StandardScaler\n",
    "from sklearn.preprocessing import MinMaxScaler\n",
    "from sklearn.preprocessing import minmax_scale\n",
    "from sklearn.pipeline import Pipeline\n",
    "\n",
    "import warnings\n",
    "warnings.filterwarnings(\"ignore\")\n",
    "\n",
    "hv.extension('bokeh')\n",
    "hv.renderer('bokeh').theme= 'dark_minimal'\n",
    "\n",
    "pd.options.display.max_rows = 10\n",
    "\n",
    "%matplotlib inline"
   ]
  },
  {
   "cell_type": "markdown",
   "id": "8418986b",
   "metadata": {},
   "source": [
    "* Youtube Channel4 Video :*[About Sharing](#lower)"
   ]
  },
  {
   "cell_type": "code",
   "execution_count": null,
   "id": "d5369d42",
   "metadata": {},
   "outputs": [],
   "source": [
    "YouTubeVideo(\"vFZZF39fgWM\", width=1200, height=500, allow_autoplay=False, controls=1, loop=1, modestbranding=0, rel=0)"
   ]
  },
  {
   "cell_type": "markdown",
   "id": "c0e63f52",
   "metadata": {},
   "source": [
    "<p style= \"background-color:#000000;font-family:Georgia;color:#FFFFFF;font-size:400%;text-align:center;border-radius:10px 10px;border-style:solid;border-width:3px;border-color:#000000;\"><b> Daily Cases by Country and Continent (COVID-19 variant EDA)</b></p>\n",
    "\n",
    "# Please give me an UPVOTE if you can. Your UPVOTE will be a great encouragement to me!\n",
    "\n",
    "<a id='top'></a>\n",
    "\n",
    "\n",
    "- [懸念される変異株（VOC）variant of concern (VOC)](https://www.who.int/en/activities/tracking-SARS-CoV-2-variants/) : Warld Helth Organization : Tracking SARS-CoV-2 variants\n",
    "- [COVID-19 Vaccinations in the United States](https://covid.cdc.gov/covid-data-tracker/#vaccinations_vacc-total-admin-rate-total) : Centers for Disease Control and Prevention アメリカ疾病予防管理センター CDC\n",
    "- [GOV.UK Coronavirus (COVID-19) in the UK](https://coronavirus.data.gov.uk/) : Government\n",
    "\n",
    "- 新しいオミクロンCOVID-19バリアントの進行を追跡する\n",
    "\n",
    "<p style=\"background-color:#000000;font-family:Georgia;color:#FFFFFF;font-size:150%;text-align:center;border-radius:10px 10px;\">Data Fields</p>\n",
    "\n",
    "\n",
    "* location-これは、バリアント情報が提供される国です。\n",
    "* date-データ入力の日付。\n",
    "* variant-これは、このデータエントリに対応するバリアントです。\n",
    "* num_sequences-処理されたシーケンスの数（国、バリアント、および日付）。\n",
    "* perc_sequences-シーケンスの総数（国、バリアント、および日付）からのシーケンスのパーセンテージ。\n",
    "* num sequence total-シーケンスの総数（国、バリアント、および日付）。"
   ]
  },
  {
   "cell_type": "markdown",
   "id": "83f52c72",
   "metadata": {},
   "source": [
    "<a id='top'></a>\n",
    "<div class=\"list-group\" id=\"list-tab\" role=\"tablist\">\n",
    "<p style=\"background-color:#000000;font-family:Georgia;color:#FFFFFF;font-size:200%;text-align:center;border-radius:10px 10px;\">CONTENTS</p>\n",
    "\n",
    "* [1. Data Pre-Processing & Feature Engineering](#1)\n",
    "* [2. EDA Visualization : HoloViews Bokeh Panel Folium](#2)\n",
    "* [3. Plotly Animation](#3)\n",
    "* [4. Create lat lon list](#4)\n",
    "* [5. Folium HeatMap](#5)\n",
    "* [6. Coropleth Map : variant](#6)\n",
    "    \n",
    "    \n",
    "</div>"
   ]
  },
  {
   "cell_type": "markdown",
   "id": "96602941",
   "metadata": {},
   "source": [
    "<a id=\"1\"></a>\n",
    "### <p style=\"background-color:#000000;font-family:Georgia;color:#FFFFFF;font-size:250%;text-align:center;border-radius:10px 10px;\">Data Pre-Processing & Feature Engineering</p>\n",
    "\n",
    "* コロプレスマップ用にJsonをロード\n",
    "* Jsonデータの整合性チェックを行い、値を事前に変換しておく。\n",
    "* 各国の緯度経度をデータセットに結合する"
   ]
  },
  {
   "cell_type": "code",
   "execution_count": null,
   "id": "4854efe3",
   "metadata": {},
   "outputs": [],
   "source": [
    "wc_v = r'D:\\JupyterNotebook\\World_Countries_json\\world-countries.json'"
   ]
  },
  {
   "cell_type": "code",
   "execution_count": null,
   "id": "10611f03",
   "metadata": {},
   "outputs": [],
   "source": [
    "train_data = pd.read_csv('D:\\JupyterNotebook\\Covid_Omicron\\covid-variants.csv')"
   ]
  },
  {
   "cell_type": "code",
   "execution_count": null,
   "id": "5f3f5115",
   "metadata": {},
   "outputs": [],
   "source": [
    "v_test = train_data['variant'].unique()\n",
    "v_test, len(v_test)"
   ]
  },
  {
   "cell_type": "code",
   "execution_count": null,
   "id": "1398d92e",
   "metadata": {},
   "outputs": [],
   "source": [
    "train_data.info()"
   ]
  },
  {
   "cell_type": "code",
   "execution_count": null,
   "id": "989ce2cf",
   "metadata": {},
   "outputs": [],
   "source": [
    "train_data.describe().style.background_gradient(cmap='mako_r', text_color_threshold=0.02)"
   ]
  },
  {
   "cell_type": "code",
   "execution_count": null,
   "id": "6b46d0d6",
   "metadata": {},
   "outputs": [],
   "source": [
    "train_data.isnull().sum()"
   ]
  },
  {
   "cell_type": "code",
   "execution_count": null,
   "id": "dc31c5b7",
   "metadata": {},
   "outputs": [],
   "source": [
    "train_data.rename(columns={'location': 'Country', 'date': 'Date',\n",
    "                           'num_sequences_total': 'Total', 'perc_sequences': 'seq_percentile'}, inplace=True)\n",
    "\n",
    "train_data['Dates'] = pd.to_datetime(train_data['Date'])\n",
    "train_data['Year'] = train_data['Dates'].dt.year\n",
    "train_data['Month'] = train_data['Dates'].dt.month\n",
    "\n",
    "lat_lon_1 = pd.read_csv('D:\\JupyterNotebook\\Country_latitude_longitude\\\\world_country_and_usa_states_latitude_and_longitude_values.csv')\n",
    "lat_lon_1.replace('United States', 'United States of America', inplace=True)\n",
    "train_data.replace('United States', 'United States of America', inplace=True)\n",
    "\n",
    "lt_data_1 = lat_lon_1.loc[:, ['country_code', 'country', 'latitude', 'longitude']].rename(columns={'country': 'Country', 'latitude': 'lat', 'longitude': 'lon'})\n",
    "train_data = pd.merge(lt_data_1, train_data, how='inner', on='Country')"
   ]
  },
  {
   "cell_type": "code",
   "execution_count": null,
   "id": "e4c11f5d",
   "metadata": {},
   "outputs": [],
   "source": [
    "year_avg = pd.pivot_table(train_data, values=['num_sequences'], index='Year', aggfunc='sum')\n",
    "group_year_avg = train_data.groupby(['Country', 'Year']).mean()"
   ]
  },
  {
   "cell_type": "code",
   "execution_count": null,
   "id": "212de91d",
   "metadata": {},
   "outputs": [],
   "source": [
    "asia_continent = ['Afghanistan', 'Bahrain', 'Bangladesh', 'Cambodia', 'China','Hong Kong, China', 'Brunei', 'Qatar',\n",
    "                  'India', 'Indonesia', 'Iran', 'Iraq', 'Israel', 'Japan', 'Jordan', 'South Korea',\n",
    "                  'Korea, Rep.', 'Kuwait', 'Lebanon', 'Malaysia', 'Mongolia', 'Myanmar', 'Nepal', 'Oman', 'Russia',\n",
    "                  'Pakistan', 'Philippines', 'United Arab Emirates', 'Singapore', 'Sri Lanka', 'Syria', 'Taiwan',\n",
    "                  'Thailand', 'Vietnam', 'West Bank and Gaza', 'Yemen, Rep.', 'Maldives', 'Kazakhstan', 'Hong Kong']\n",
    "\n",
    "europe_continent = ['Albania', 'Austria', 'Belgium', 'Bosnia and Herzegovina','Bulgaria', 'Croatia',\n",
    "                    'Czech Republic', 'Denmark', 'Finland', 'France', 'Germany', 'Greece', 'Hungary',\n",
    "                    'Iceland', 'Ireland', 'Italy', 'Montenegro', 'Netherlands', 'Norway', 'Poland',\n",
    "                    'Portugal', 'Romania', 'Serbia', 'Slovakia', 'Slovenia', 'Spain', 'Sweden', 'Lithuania',\n",
    "                    'Switzerland', 'Turkey', 'United Kingdom', 'Moldova', 'Malta', 'Luxembourg', 'Liechtenstein', \n",
    "                    'Latvia', 'Kosovo', 'Georgia', 'Cyprus', 'Estonia', 'Ukraine', 'Monaco']\n",
    "\n",
    "africa_continent = ['Algeria', 'Angola', 'Benin', 'Botswana', 'Burkina Faso', 'Burundi', 'Cameroon',\n",
    "                    'Central African Republic', 'Chad', 'Comoros', 'Congo, Dem. Rep.', 'Congo, Rep.',\n",
    "                    \"Cote d'Ivoire\", 'Djibouti', 'Egypt', 'Equatorial Guinea', 'Eritrea', 'Ethiopia', \n",
    "                    'Gabon', 'Gambia', 'Ghana', 'Guinea', 'Guinea-Bissau', 'Kenya', 'Lesotho', 'Seychelles',\n",
    "                    'Liberia', 'Libya', 'Madagascar', 'Malawi', 'Mali', 'Mauritania', 'Mauritius',\n",
    "                    'Morocco', 'Mozambique', 'Namibia', 'Niger', 'Nigeria', 'Reunion', 'Rwanda',\n",
    "                    'Sao Tome and Principe', 'Senegal', 'Sierra Leone', 'Somalia', 'South Africa',\n",
    "                    'Sudan','Swaziland', 'Tanzania', 'Togo', 'Tunisia', 'Uganda', 'Zambia', 'Zimbabwe']\n",
    "\n",
    "americas_continent = ['Argentina', 'Bolivia', 'Brazil', 'Canada', 'Chile', 'Colombia', 'Costa Rica',\n",
    "                      'Cuba', 'Dominican Republic', 'Ecuador', 'El Salvador', 'Guatemala', 'Haiti',\n",
    "                      'Honduras', 'Jamaica','Mexico', 'Nicaragua', 'Panama', 'Paraguay', 'Peru',\n",
    "                      'Puerto Rico', 'Trinidad and Tobago', 'United States of America', 'Uruguay', 'Venezuela',\n",
    "                      'Belize', 'Aruba', 'Suriname']\n",
    "\n",
    "oceania_continent = ['Australia', 'New Zealand', 'Papua New Guinea', 'Fiji']"
   ]
  },
  {
   "cell_type": "code",
   "execution_count": null,
   "id": "b19ba5be",
   "metadata": {},
   "outputs": [],
   "source": [
    "continent_dict = {'Asia': asia_continent, \n",
    "                  'Europe': europe_continent, \n",
    "                  'Africa': africa_continent, \n",
    "                  'Americas': americas_continent, \n",
    "                  'Oceania': oceania_continent}\n",
    "cont_dict = {val:key for key, lst in continent_dict.items() for val in lst}\n",
    "train_data['continent'] = train_data['Country'].map(cont_dict)"
   ]
  },
  {
   "cell_type": "code",
   "execution_count": null,
   "id": "45ec58b9",
   "metadata": {},
   "outputs": [],
   "source": [
    "train_data.loc[train_data['continent'].isnull()]"
   ]
  },
  {
   "cell_type": "code",
   "execution_count": null,
   "id": "1cb0bd20",
   "metadata": {},
   "outputs": [],
   "source": [
    "train_data.head(10).style.background_gradient(cmap='mako_r', text_color_threshold=0.02)"
   ]
  },
  {
   "cell_type": "markdown",
   "id": "6b1ba808",
   "metadata": {},
   "source": [
    "<a id=\"2\"></a>\n",
    "### <p style=\"background-color:#000000;font-family:Georgia;color:#FFFFFF;font-size:250%;text-align:center;border-radius:10px 10px;\">EDA Visualization : HoloViews Bokeh Panel Folium</p>"
   ]
  },
  {
   "cell_type": "markdown",
   "id": "2db1bb93",
   "metadata": {},
   "source": [
    "<p style=\"background-color:#000000;font-family:Georgia;color:#FFFFFF;font-size:150%;text-align:center;border-radius:10px 10px;\">Year : Country</p>"
   ]
  },
  {
   "cell_type": "code",
   "execution_count": null,
   "id": "02990a45",
   "metadata": {},
   "outputs": [],
   "source": [
    "def year_total_plot(data, year):\n",
    "    data_g = data.reset_index()\n",
    "    vdims = [('Total', 'TOTAL')]\n",
    "    ds = hv.Dataset(data_g, ['Year', 'Country'], vdims)\n",
    "\n",
    "    states = list(data_g['Country'])\n",
    "\n",
    "    bars = ds.select(State=states, Year=year).to(hv.Bars, ['Year', 'Country'], 'Total').sort()\n",
    "    bars.opts(\n",
    "        opts.Bars(width=1200, height=500, tools=['hover'], xrotation=90, show_legend=False, title='Data Year : {}'.format(year)))\n",
    "    return bars"
   ]
  },
  {
   "cell_type": "code",
   "execution_count": null,
   "id": "0613f2c9",
   "metadata": {},
   "outputs": [],
   "source": [
    "year_total_plot(group_year_avg, (2020))"
   ]
  },
  {
   "cell_type": "code",
   "execution_count": null,
   "id": "89cb32b4",
   "metadata": {},
   "outputs": [],
   "source": [
    "year_total_plot(group_year_avg, (2021))"
   ]
  },
  {
   "cell_type": "markdown",
   "id": "c1c0185d",
   "metadata": {},
   "source": [
    "<p style=\"background-color:#000000;font-family:Georgia;color:#FFFFFF;font-size:150%;text-align:center;border-radius:10px 10px;\">Year : variant</p>"
   ]
  },
  {
   "cell_type": "code",
   "execution_count": null,
   "id": "877a3c62",
   "metadata": {},
   "outputs": [],
   "source": [
    "group_year_avg = train_data.groupby(['Year', 'variant']).mean()"
   ]
  },
  {
   "cell_type": "code",
   "execution_count": null,
   "id": "755ff9a4",
   "metadata": {},
   "outputs": [],
   "source": [
    "def variant_plot(data, year):\n",
    "    data_g = data.reset_index()\n",
    "    vdims = [('Total', 'TOTAL')]\n",
    "    ds = hv.Dataset(data_g, ['Year', 'variant'], vdims)\n",
    "\n",
    "    states = list(data_g['variant'])\n",
    "\n",
    "    bars = ds.select(State=states, Year=year).to(hv.Bars, ['Year', 'variant'], 'seq_percentile').sort()\n",
    "    bars.opts(\n",
    "        opts.Bars(width=1200, height=500, tools=['hover'], xrotation=90, show_legend=False, title='Data Year : {}'.format(year)))\n",
    "    return bars"
   ]
  },
  {
   "cell_type": "code",
   "execution_count": null,
   "id": "0e336b65",
   "metadata": {},
   "outputs": [],
   "source": [
    "variant_plot(group_year_avg, (2020))"
   ]
  },
  {
   "cell_type": "code",
   "execution_count": null,
   "id": "12c4f6e8",
   "metadata": {},
   "outputs": [],
   "source": [
    "variant_plot(group_year_avg, (2021))"
   ]
  },
  {
   "cell_type": "code",
   "execution_count": null,
   "id": "ff1caaa3",
   "metadata": {},
   "outputs": [],
   "source": [
    "variant_plot(group_year_avg, (2022))"
   ]
  },
  {
   "cell_type": "markdown",
   "id": "a1b8bbbb",
   "metadata": {},
   "source": [
    "<p style=\"background-color:#000000;font-family:Georgia;color:#FFFFFF;font-size:150%;text-align:center;border-radius:10px 10px;\">Dates : num_sequences</p>"
   ]
  },
  {
   "cell_type": "code",
   "execution_count": null,
   "id": "c9a6a5c0",
   "metadata": {},
   "outputs": [],
   "source": [
    "def date_num_plot(data):\n",
    "    date_avg = pd.pivot_table(data, values='Total', index='Date', aggfunc='mean')\n",
    "    bar_plot = hv.Bars(date_avg)\n",
    "    lin_plot = hv.Curve(date_avg)\n",
    "    vline = hv.VLine(pd.datetime(2021, 1, 4))\n",
    "    bar_lin = (bar_plot * lin_plot * vline)\n",
    "    bar_lin.opts(opts.Bars(width=1200, alpha=0.8, line_width=2, show_grid=True, xrotation=90, stacked=True, yformatter=\"%.0f\",\n",
    "                           color=hv.Cycle('Category20'), title='Covid-19', toolbar='above', tools=['hover']),\n",
    "                 opts.VLine(color='red', line_width=100))\n",
    "    return bar_lin"
   ]
  },
  {
   "cell_type": "code",
   "execution_count": null,
   "id": "10e03b4a",
   "metadata": {},
   "outputs": [],
   "source": [
    "date_num_plot(train_data)"
   ]
  },
  {
   "cell_type": "markdown",
   "id": "6e46a316",
   "metadata": {},
   "source": [
    "<p style=\"background-color:#000000;font-family:Georgia;color:#FFFFFF;font-size:150%;text-align:center;border-radius:10px 10px;\">Total : variant</p>"
   ]
  },
  {
   "cell_type": "code",
   "execution_count": null,
   "id": "e1ec5318",
   "metadata": {},
   "outputs": [],
   "source": [
    "def total_variant(data):\n",
    "    variant = data.groupby(['Date', 'variant'])['Total'].sum().reset_index()\n",
    "    table = hv.Table(variant).to.bars(['Date', 'variant'], 'Total', [])\n",
    "    table.opts(opts.Bars(color=hv.Cycle('Category20'), show_legend=False, stacked=True, yformatter=\"%.0f\",\n",
    "                         tools=['hover'], width=1000, xrotation=90)) #  height=700,\n",
    "    return table"
   ]
  },
  {
   "cell_type": "code",
   "execution_count": null,
   "id": "b280be88",
   "metadata": {},
   "outputs": [],
   "source": [
    "total_variant(train_data)"
   ]
  },
  {
   "cell_type": "markdown",
   "id": "5eeda86a",
   "metadata": {},
   "source": [
    "<a id=\"3\"></a>\n",
    "### <p style=\"background-color:#000000;font-family:Georgia;color:#FFFFFF;font-size:350%;text-align:center;border-radius:10px 10px;\">Plotly Animation</p>\n",
    "\n",
    "* 結合した大陸情報に沿ってアニメーションによる可視化を行う。"
   ]
  },
  {
   "cell_type": "code",
   "execution_count": null,
   "id": "a2e2f683",
   "metadata": {},
   "outputs": [],
   "source": [
    "px.scatter(train_data, x=\"num_sequences\", y=\"Total\", animation_frame=\"Date\", animation_group=\"Country\",\n",
    "           size=\"Total\", color=\"continent\", hover_name=\"Country\", range_y=[-5000, 200000], \n",
    "           range_x=[-2000, 60000], size_max=60, template=\"plotly_dark\")"
   ]
  },
  {
   "cell_type": "code",
   "execution_count": null,
   "id": "71831d46",
   "metadata": {},
   "outputs": [],
   "source": [
    "px.bar(train_data, x=\"variant\", y=\"seq_percentile\", color=\"variant\", template=\"plotly_dark\",\n",
    "       animation_frame=\"Date\", range_y=[0, 5000])"
   ]
  },
  {
   "cell_type": "markdown",
   "id": "6802279c",
   "metadata": {},
   "source": [
    "[最新のものは主にデルタバリアントでした。ここ数週間、B.1.1.529バリアントの検出と一致して、感染が急増しています。最初に確認されたB.1.1.529感染は、2021年11月9日に収集された検体からのものでした。](https://www.who.int/news/item/26-11-2021-classification-of-omicron-(b.1.1.529)-sars-cov-2-variant-of-concern) : Warld Helth Organization ,Classification of Omicron (B.1.1.529): SARS-CoV-2 Variant of Concern (VOC)\n",
    "26 November 2021 \n",
    "\n",
    "* アニメーション可視化でも見られるようにDelta株から一時的に other, non_whoが発生し、翌からOmicronが徐々に増幅している事が見て取れる。 "
   ]
  },
  {
   "cell_type": "markdown",
   "id": "877efebc",
   "metadata": {},
   "source": [
    "<a id=\"4\"></a>\n",
    "### <p style=\"background-color:#000000;font-family:Georgia;color:#FFFFFF;font-size:250%;text-align:center;border-radius:10px 10px;\">Create lat lon list </p>"
   ]
  },
  {
   "cell_type": "code",
   "execution_count": null,
   "id": "4d591d95",
   "metadata": {},
   "outputs": [],
   "source": [
    "pd.options.display.max_rows = 10"
   ]
  },
  {
   "cell_type": "code",
   "execution_count": null,
   "id": "348deec7",
   "metadata": {},
   "outputs": [],
   "source": [
    "tqdm_outer = Tqdm()"
   ]
  },
  {
   "cell_type": "code",
   "execution_count": null,
   "id": "b3e8154b",
   "metadata": {},
   "outputs": [],
   "source": [
    "def variance_lat_lon(train_data, query=\"variant=='Omicron' & num_sequences!=0\"):\n",
    "    test_data_1 = train_data.query(query)\n",
    "    lat = []\n",
    "    lon = []\n",
    "    for i in tqdm_outer(range(0, len(test_data_1))):\n",
    "        test_num = test_data_1['num_sequences'].iloc[i]\n",
    "        lat_a, lon_c = test_data_1.loc[:, ['lat', 'lon']].iloc[i]\n",
    "        for _ in itertools.repeat(None, test_num):\n",
    "            lat.append(lat_a)\n",
    "            lon.append(lon_c)\n",
    "    return pd.DataFrame(data={'lat': lat, 'lon': lon},columns=['lat', 'lon'])"
   ]
  },
  {
   "cell_type": "code",
   "execution_count": null,
   "id": "f3c146a4",
   "metadata": {},
   "outputs": [],
   "source": [
    "pn.Column('#Latitude_Longitude' ,tqdm_outer , background='WhiteSmoke')"
   ]
  },
  {
   "cell_type": "code",
   "execution_count": null,
   "id": "0b9d4934",
   "metadata": {},
   "outputs": [],
   "source": [
    "lat_lon_data = variance_lat_lon(train_data, \"variant=='Omicron' & num_sequences!=0\")"
   ]
  },
  {
   "cell_type": "markdown",
   "id": "d47c49a3",
   "metadata": {},
   "source": [
    "<a id=\"5\"></a>\n",
    "### <p style=\"background-color:#000000;font-family:Georgia;color:#FFFFFF;font-size:250%;text-align:center;border-radius:10px 10px;\">Folium HeatMap </p>"
   ]
  },
  {
   "cell_type": "code",
   "execution_count": null,
   "id": "dc78951f",
   "metadata": {},
   "outputs": [],
   "source": [
    "def heat_map_folium(data):\n",
    "    geo_list = data.values.tolist()\n",
    "    m = folium.Map(location=[0, 0], zoom_start=2, tiles='CartoDB dark_matter')\n",
    "    HeatMap(geo_list).add_to(m)\n",
    "    return m"
   ]
  },
  {
   "cell_type": "markdown",
   "id": "4cee2c4b",
   "metadata": {},
   "source": [
    "<p style=\"background-color:#000000;font-family:Georgia;color:#FFFFFF;font-size:150%;text-align:center;border-radius:10px 10px;\">Omicron Sequences HeatMap</p>\n",
    "\n",
    "- ヒートマップの位置は国の緯度経度を基準にしているため、国の中心付近が濃くなりますが、これはその地域の感染数が極端に多いということではありません。表示サイズはデフォルト設定です。"
   ]
  },
  {
   "cell_type": "code",
   "execution_count": null,
   "id": "2a3e6fef",
   "metadata": {},
   "outputs": [],
   "source": [
    "heat_map_folium(lat_lon_data)"
   ]
  },
  {
   "cell_type": "markdown",
   "id": "eff86cdb",
   "metadata": {},
   "source": [
    "<a id=\"6\"></a>\n",
    "### <p style=\"background-color:#000000;font-family:Georgia;color:#FFFFFF;font-size:350%;text-align:center;border-radius:10px 10px;\">Coropleth Map : variant</p>"
   ]
  },
  {
   "cell_type": "code",
   "execution_count": null,
   "id": "69092738",
   "metadata": {},
   "outputs": [],
   "source": [
    "wc_v = r'D:\\JupyterNotebook\\World_Countries_json\\world-countries.json'"
   ]
  },
  {
   "cell_type": "code",
   "execution_count": null,
   "id": "8f67750a",
   "metadata": {},
   "outputs": [],
   "source": [
    "def variant_coropleth(data, variant='Delta'):\n",
    "    query_data = data.query(\"variant=='{}'\".format(variant)).groupby('Country').sum().reset_index()\n",
    "    c_m_data = query_data[['Country', 'num_sequences']]\n",
    "\n",
    "    chor = folium.Map(location=[0, 0], zoom_start=2, tiles='stamenterrain')\n",
    "    tiles = ['stamenwatercolor', 'openstreetmap', 'cartodbpositron', 'stamenterrain']\n",
    "    for tile in tiles:\n",
    "        folium.TileLayer(tile).add_to(chor)\n",
    "    f_chor = folium.Choropleth(geo_data=wc_v,\n",
    "                               data=c_m_data,\n",
    "                               columns=['Country', 'num_sequences'],\n",
    "                               key_on='feature.properties.name',\n",
    "                               fill_color='Set1', fill_opacity=0.6, line_opacity=0.6, \n",
    "                               highlight=True, legend_name='Covid: {} Cases'.format(variant)).add_to(chor)\n",
    "    f_chor.geojson.add_child(folium.features.GeoJsonTooltip(['name'], labels=False))\n",
    "\n",
    "    folium.LayerControl().add_to(chor);\n",
    "    #chor.save(\"Covid_case_Omicron.html\")\n",
    "    return chor"
   ]
  },
  {
   "cell_type": "markdown",
   "id": "7036ce03",
   "metadata": {},
   "source": [
    "- 右上のレイヤーコントロールを使用して地図のTile表示を切り替え可能。\n",
    "\n",
    "- 関数の第2引数にバリアントを入力することで、表示を切り替えることができます。デフォルトではオミクロンに設定されています。\n",
    "\n",
    "- グレーの位置はデータの存在しない地域です。"
   ]
  },
  {
   "cell_type": "code",
   "execution_count": null,
   "id": "f423847f",
   "metadata": {},
   "outputs": [],
   "source": [
    "train_data['variant'].unique()"
   ]
  },
  {
   "cell_type": "code",
   "execution_count": null,
   "id": "077e9088",
   "metadata": {},
   "outputs": [],
   "source": [
    "variant_coropleth(train_data, 'Omicron')"
   ]
  },
  {
   "cell_type": "code",
   "execution_count": null,
   "id": "7d7032f8",
   "metadata": {},
   "outputs": [],
   "source": [
    "variant_coropleth(train_data, 'Delta')"
   ]
  },
  {
   "cell_type": "code",
   "execution_count": null,
   "id": "c354349e",
   "metadata": {},
   "outputs": [],
   "source": [
    "variant_coropleth(train_data, 'Alpha')"
   ]
  },
  {
   "cell_type": "markdown",
   "id": "f7811699",
   "metadata": {},
   "source": [
    "<p style=\"background-color:#000000;font-family:Georgia;color:#FFFFFF;font-size:150%;text-align:center;border-radius:10px 10px;\">CDC Covid Data Tracker</p>"
   ]
  },
  {
   "cell_type": "code",
   "execution_count": null,
   "id": "755480c7",
   "metadata": {},
   "outputs": [],
   "source": [
    "html_cdc = \"\"\"<a href=\"https://covid.cdc.gov/covid-data-tracker/#datatracker-home?c_cid=CDT_Button\" \n",
    "                title=\"image of SARS-CoV-2\"><img src=\"http://www.cdc.gov/coronavirus/2019-ncov/images/COVID_Data_Tracker_Widget_card.png\"\n",
    "                style=\"width:300px; height:178px; border:0px;\" alt=\"image of Coronavirus Disease 2019 (COVID-19)\"/></a>\"\"\"\n",
    "HTML(html_cdc)"
   ]
  },
  {
   "cell_type": "markdown",
   "id": "748f0a07",
   "metadata": {},
   "source": [
    "---\n",
    "<a id=\"lower\"></a>\n",
    "* Japan:[経済産業省(Ministry of Economy, Trade and Industry):電子商取引及び情報財取引等に関する準則](https://www.meti.go.jp/press/2020/08/20200828001/20200828001.html)\n",
    " - リンクを張ること自体により、公衆送信、複製のいずれも行われるわけではないから、複製権侵害、公衆送信権侵害のいずれも問題にならないものと考えられる。\n",
    " - サーフェスリンク、ディープリンク、イメージリンク、フレームリンク、インラインリンクの個別の態様でのリンクを張る行為自体においては、原則として著作権侵害の問題は生じないと考えるのが合理的である。\n"
   ]
  }
 ],
 "metadata": {
  "kernelspec": {
   "display_name": "Machine_Learning",
   "language": "python",
   "name": "machine_learning"
  },
  "language_info": {
   "codemirror_mode": {
    "name": "ipython",
    "version": 3
   },
   "file_extension": ".py",
   "mimetype": "text/x-python",
   "name": "python",
   "nbconvert_exporter": "python",
   "pygments_lexer": "ipython3",
   "version": "3.8.8"
  }
 },
 "nbformat": 4,
 "nbformat_minor": 5
}
